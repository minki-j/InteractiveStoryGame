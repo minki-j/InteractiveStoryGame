{
 "cells": [
  {
   "cell_type": "code",
   "execution_count": 1,
   "metadata": {},
   "outputs": [],
   "source": [
    "from typing import List\n",
    "from pydantic import BaseModel, Field\n",
    "\n",
    "\n",
    "class Character(BaseModel):\n",
    "    name: str\n",
    "    relationship_to_main_character: str\n",
    "    description: str\n",
    "\n",
    "\n",
    "class Chapter(BaseModel):\n",
    "    title: str\n",
    "    synopsis: str = Field(\n",
    "        description=\"\"\"\n",
    "Please generate a detailed and thorough synopsis for a chapter in a novel. The synopsis should be a concise yet comprehensive breakdown of the key events, character development, themes, emotions, and conflicts that occur within this chapter. Each synopsis should include the following elements:\n",
    "\n",
    "1. **Setting**: Describe the physical location and the time period of the chapter. Specify the atmosphere, mood, and sensory details of the environment. How does the setting affect the tone of the chapter? How does it impact the characters' actions and emotions?\n",
    "\n",
    "2. **Key Characters**: List all characters involved in the chapter, providing a brief description of their roles and motivations. How do their relationships evolve in this chapter? Highlight any internal or external changes they experience.\n",
    "\n",
    "3. **Chapter Opening**: Begin by describing how the chapter opens. What is the starting situation for the main characters? Set the stage by explaining the immediate conflict or situation they are dealing with. Are they in the middle of an action sequence, a dialogue, or an introspective moment? What is the tension level at the start of the chapter?\n",
    "\n",
    "4. **Main Conflict/Goal**: Identify the primary conflict or goal that drives the chapter. What specific challenge or problem is the protagonist (or other key character) trying to resolve? Outline the stakes involved and how the situation escalates as the chapter progresses. Does the conflict come from external forces (enemies, nature, obstacles), or is it more of an internal struggle (fears, doubts, desires)?\n",
    "\n",
    "5. **Plot Progression**: Outline the major events that occur in the chapter. Focus on how the plot moves forward—what decisions are made, what actions are taken, and how these actions affect the overarching storyline. Break the synopsis into three key sections: \n",
    "   - **Beginning**: What is the inciting event or moment of the chapter? \n",
    "   - **Middle**: How does the situation intensify or grow more complicated? Include any significant turning points, surprises, or reveals.\n",
    "   - **End**: How does the chapter conclude? What is the outcome of the conflict or challenge? Does it end on a cliffhanger or resolution, and how does this lead into the next chapter?\n",
    "\n",
    "6. **Character Development**: Focus on how the characters evolve during the chapter. What emotions are they experiencing, and how do these emotions drive their actions or decisions? Does a character overcome a personal flaw or gain a new perspective? Highlight how this chapter contributes to the overall character arc.\n",
    "\n",
    "7. **Themes and Motifs**: Identify any recurring themes, symbols, or motifs present in this chapter. How do these elements tie into the larger themes of the story? For example, is there a theme of betrayal, love, sacrifice, or redemption? How are these themes expressed through the characters' actions, dialogue, or the setting?\n",
    "\n",
    "8. **Emotional Tension**: Describe the emotional tension that builds throughout the chapter. How do the stakes rise for the characters emotionally? What are they afraid of losing? What hopes or desires are fueling their decisions? What is the emotional climax of the chapter, and how does it leave the reader feeling?\n",
    "\n",
    "9. **Cliffhanger or Foreshadowing**: If applicable, explain any cliffhanger or unresolved question left at the end of the chapter. How does this chapter set up anticipation for the next one? Are there any subtle hints or foreshadowing of future events?\n",
    "\n",
    "10. **World-building and Backstory**: If applicable, include any important elements of world-building or backstory introduced in the chapter. Does this chapter reveal new information about the story’s setting, history, or cultures? How does this world-building add depth to the plot and characters?\n",
    "\n",
    "11. **Chapter Tone and Atmosphere**: What is the overall tone of the chapter? Is it dark and suspenseful, light-hearted, emotional, or action-packed? How does the atmosphere evolve throughout the chapter?\n",
    "\n",
    "12. **Pacing**: Analyze the pacing of the chapter. Does the chapter unfold quickly with action and tension, or does it take its time to build suspense or emotional depth? How does the pacing contribute to the overall experience of the chapter?\n",
    "\n",
    "---\n",
    "\n",
    "For each chapter synopsis, make sure it’s approximately 500 words long, providing rich and specific details to guide the creation of a compelling and well-rounded story.\"\"\"\n",
    "    )\n",
    "\n",
    "\n",
    "class Outline(BaseModel):\n",
    "    characters: List[Character] = Field(description=\"The characters in the story.\")\n",
    "    outline: List[Chapter] = Field(description=\"Generate 6 chapters outlining the story.\")\n"
   ]
  },
  {
   "cell_type": "code",
   "execution_count": 2,
   "metadata": {},
   "outputs": [],
   "source": [
    "input = {\n",
    "    \"story_instruction\": \"A realistic journey of Minki building his startup called Perfect Day. The story should have a strong plot with interesting characters and a clear goal for the main character. It should be gripping and interesting to read. Don't be too cheesy or too serious.\",\n",
    "    \"user_profile\": \"\"\"\n",
    "name: Minki Jung.\n",
    "age: 30.\n",
    "gender: male.\n",
    "address: Montréal, Canada.\n",
    "appearance: EastAsian, 170 cm, 58 kg, long black curly hair, brown eyes, clean shaven, tanned skin, horn-rimmed glasses, slim but muscular build.\n",
    "personality: extroverted, empathetic, analytical, curious, enthusiastic, friendly, kind, confident,\n",
    "occupation: AI software engineer.\n",
    "education: Bachelor's degree in physics and philosophy, graduate certificate in Artificial Intelligence.\n",
    "intrests: reading, hiking, meditation, anti-aging, longevity, musics(jazz, classical, contemporary, experimental, world music).\n",
    "values: Reflection, Learning, Self-transfomation, Mindfulness, Grit, Critical thinking, Open-mindedness, Honesty, Curiosity, Empathy, Creativity, Perseverance,\n",
    "aversions: Superstition, Racism, Sexism, Nationalism, Bluffing, Laziness, Inauthenticity, Arrogance.\n",
    "beliefs: Humans have very limited free will, All religions are not true, Science is the best way to understand the world, Utilitarianism is the most objective moral framework yet it is not perfect.\n",
    "goals: To be an entrepreneur of a software company that makes a positive impact on the world using AI.\n",
    "family: Father, mother, sister. Father is a pediatric doctor, mother is a housewife but used to be a bassonist, sister is 2 years younger and is working for a bank. All of them are in Korea. Parents are divorced. Married to my wife, Alison Jeon, 27 year old woman, who is a Korean Canadian. She is an aspiring writer.She is very supportive to my goal of becoming an entrepreneur. We have a dog named Charlie who is a shih tzu border terrior mix. Charlie is a girl.\n",
    "history: Born and raised in Korea. Went to Hanyang University as a physics major student. During my military service I read a lot of books and got interested in humanitas. After coming back to school after the military, I tried one philosophy major class and fell in love to it. I decided to double major philosophy. Visited Toronto for a exchange program and met my wife there who is a Korean Canadian majoring in Enlgish literature and philosophy at University of Toronto. Went back to Korea and prepared for a graduate school for philosophy but rejected by all schools. Lost my goal of becoming a philosopher and dejected for an year. Worked as a journalist for an year but it was a small newspaper and I had trouble with my boss because I couldn't respect his writing style and logical reasoning. Quit the job and decided to immigrate to Canada with my wife. We got married in Korea and then immigrated to Canada. We lived in Toronto for 6 months and moved to Ottawa for my college. I went to Algonquin College for mobile app development. It was a 2 year program but I dropped out after an year. I transferred to AI software engineering program at the same college. I graduated from there and started working as an AI software engineer at the government of Canada.\n",
    "facts: We are living in a apartment, we don't have a car, we don't own any property, we have 40,000 dollars in the bank, we have a strict lifestyle: we rarely drink alcohol, we wake up at 5:30 and go to bed at 9:30 everyday, we do cook healthy food in batch and have them for lunch and dinner, we rarely snack, we exercise everyday, We have a well-established morning routine: mediation, 1 hour of reading, breakfast, walk in nature for 30mins, have coffee and work for 3 hours, we work on Sunday and only hang out on Saturday but we still do the morning routine. \n",
    "plans: become a world class AI software engineer, build an AI story generating app(called Perfect Day) that puts the user as a main character in a story, make Perfect Day successful and move to San Francisco to get funding and recruit like-minded engineers.\n",
    "    \"\"\",\n",
    "}"
   ]
  },
  {
   "cell_type": "code",
   "execution_count": 3,
   "metadata": {},
   "outputs": [],
   "source": [
    "from app.utils.openai_api_calls import openai_api_structured_output_call\n",
    "completion = openai_api_structured_output_call(\n",
    "    model=\"o1-mini\",\n",
    "    messages=[\n",
    "        {\n",
    "            \"role\": \"user\",\n",
    "            \"content\": f\"\"\"Generate an top-level outline of a story. \n",
    "\n",
    "        story instruction: {input[\"story_instruction\"]}\n",
    "        user profile: {input[\"user_profile\"]} \n",
    "        Follow the JSON output format strictly.\"\"\",\n",
    "        },\n",
    "    ],\n",
    "    response_format=Outline,\n",
    ")"
   ]
  },
  {
   "cell_type": "code",
   "execution_count": 4,
   "metadata": {},
   "outputs": [
    {
     "name": "stdout",
     "output_type": "stream",
     "text": [
      "characters=[Character(name='Minki Jung', relationship_to_main_character='Main Character', description='An enthusiastic and disciplined AI software engineer with a rich background in physics and philosophy, now on a mission to create a transformative AI story-generating application called Perfect Day.'), Character(name='Alison Jeon', relationship_to_main_character='Spouse', description=\"Minki's supportive wife, a Korean Canadian writer with aspirations of her own. She offers insightful advice and unwavering encouragement as Minki embarks on his entrepreneurial journey.\"), Character(name='Charlie', relationship_to_main_character='Pet', description=\"Minki's and Alison's loyal dog, a shih tzu border terrier mix, who provides emotional comfort and playful distractions during challenging times.\"), Character(name='Seon-woo Jung', relationship_to_main_character='Father', description=\"Minki's estranged father, a pediatric doctor in Korea, who remains a distant but subtle influence in Minki's life.\"), Character(name='Eun-jung Hong', relationship_to_main_character='Mother', description=\"Minki's mother, a former bassoonist turned homemaker, living in Korea, whose creativity and life choices have inspired Minki's artistic sensibilities.\"), Character(name='Hye-jin Jung', relationship_to_main_character='Sister', description=\"Minki's younger sister, working in the banking sector in Korea. Though they drifted apart, her practical mindset often contrasts with Minki’s idealism, leading to insightful exchanges.\")] outline=[Chapter(title='Chapter 1: The Spark of Inspiration', synopsis=\"**Setting:** Minki's cozy apartment in Montreal, the skies clear and temperatures mild, suggesting a fresh yet determined ambition waiting to take root. The comfortable urban environment embodies a nurturing ground for newfound ideas and plans.\\n\\n**Key Characters:** Minki Jung, Alison Jeon, Charlie.\\n\\n**Chapter Opening:** Minki sits in front of his computer, gazing at countless strings of code. It's an unremarkable Sunday morning but Minki's mind is spiraling with possibilities. Alison, sipping green tea, watches her husband with knowing eyes, understanding his excitement.\\n\\n**Main Conflict/Goal:** Minki grapples with the confines of his stable job and the burgeoning ambition to create something more aligned with his values—not just any app, but one that transforms stories into subjective realities.\\n\\n**Plot Progression:**\\n   - **Beginning:** Over a breakfast of oatmeal and fruits, Minki discusses his dream of Perfect Day, an AI-based story app that lets users immerse themselves in personalized narratives.\\n   - **Middle:** Alfred calls her editor friend and fixes a meeting, planting the first seed of potential collaboration.\\n   - **End:** Minki gazes into the Montreal skyline, a promise of challenges but also untapped potentials. Minki contemplates potential investors in San Francisco, setting an ambitious trajectory.\\n\\n**Character Development:** Minki evolves from a man hesitant about risking stability to one filled with fervor and readiness to embrace uncertainty. Alison becomes more than a supportive spouse; she actively contributes ideas and strategies.\\n\\n**Themes and Motifs:** Dreams versus reality; the blurred intersections between stories and life; the potency of transformative technology.\\n\\n**Emotional Tension:** The impending leap of faith hangs heavy, manifesting both excitement and apprehension. Minki's beliefs—rooted in practicality and exploration—are tested.\\n\\n**Cliffhanger or Foreshadowing:** Minki confirms an appointment with a local veteran entrepreneur next week, hinting at obstacles and alliances to come.\\n\\n**World-building and Backstory:** The vibrant and intellectual milieu of Montreal: a melting pot of culture and innovation, a fitting incubator for the Perfect Day project.\\n\\n**Chapter Tone and Atmosphere:** Intrigued yet contemplative, balancing introspection with bursts of enlightenment.\\n\\n**Pacing:** A deliberate pace lures the reader into Minki's exhilarating world, marked by an epiphany that incites action and establishes momentum. \\n\\n---\\n\\n**Note:** Each subsequent chapter continues as Minki advances from conception to execution stages of Perfect Day, navigating personal and professional landscapes with skill and resilience.\")]\n"
     ]
    }
   ],
   "source": [
    "print(completion)"
   ]
  }
 ],
 "metadata": {
  "kernelspec": {
   "display_name": "perspective",
   "language": "python",
   "name": "python3"
  },
  "language_info": {
   "codemirror_mode": {
    "name": "ipython",
    "version": 3
   },
   "file_extension": ".py",
   "mimetype": "text/x-python",
   "name": "python",
   "nbconvert_exporter": "python",
   "pygments_lexer": "ipython3",
   "version": "3.12.4"
  }
 },
 "nbformat": 4,
 "nbformat_minor": 2
}
